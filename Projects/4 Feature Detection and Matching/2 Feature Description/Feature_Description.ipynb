{
 "cells": [
  {
   "cell_type": "code",
   "execution_count": 5,
   "metadata": {},
   "outputs": [],
   "source": [
    "# Set Up\n",
    "import numpy as np\n",
    "import cv2 as cv\n",
    "from matplotlib import pyplot as plt"
   ]
  },
  {
   "cell_type": "code",
   "execution_count": 7,
   "metadata": {},
   "outputs": [],
   "source": [
    "from PIL import Image\n",
    "# img = Image.open('../cars1.ppm')\n",
    "# img.show()\n",
    "\n",
    "# img = Image.open('../cars2.ppm')\n",
    "# img.show()"
   ]
  },
  {
   "cell_type": "code",
   "execution_count": 8,
   "metadata": {},
   "outputs": [],
   "source": [
    "# show grayscale image\n",
    "def show_grayscale( my_image ):\n",
    "    plt.figure(figsize = (10,10))\n",
    "    plt.imshow(my_image, cmap = plt.get_cmap(name = 'gray'))\n",
    "    plt.show()"
   ]
  },
  {
   "cell_type": "code",
   "execution_count": 70,
   "metadata": {},
   "outputs": [],
   "source": [
    "# detect key points using openCV FAST or SURF\n",
    "# Limit # of detected Kepoints <= 100\n",
    "\n",
    "def get_kp( img, Suppress = 1):\n",
    "    print(type(img))\n",
    "    print(img.shape)\n",
    "\n",
    "    # Initiate FAST object with default values\n",
    "    fast = cv.FastFeatureDetector_create()\n",
    "    \n",
    "    # Disable nonmaxSuppression\n",
    "    fast.setNonmaxSuppression( Suppress )\n",
    "    \n",
    "    # find and draw the keypoints\n",
    "    kp = fast.detect(img,None)\n",
    "    # KP structure documentation: https://docs.opencv.org/master/d2/d29/classcv_1_1KeyPoint.html\n",
    "    \n",
    "    kp_img = cv.drawKeypoints(img, kp, None, color=(255,0,0))\n",
    "    \n",
    "    # Print all default params\n",
    "    print( \"\\nThreshold: {}\".format(fast.getThreshold()) )\n",
    "    print( \"nonmaxSuppression:{}\".format(fast.getNonmaxSuppression()) )\n",
    "    print( \"neighborhood: {}\".format(fast.getType()) )\n",
    "    print( \"Total Keypoints {}\".format(len(kp)) )\n",
    "    \n",
    "    # print image\n",
    "    show_grayscale(kp_img)\n",
    "    \n",
    "    return kp"
   ]
  },
  {
   "cell_type": "code",
   "execution_count": 71,
   "metadata": {},
   "outputs": [],
   "source": [
    "# Gets 5x5 window extraction around a given keypoint data structure\n",
    "def get_5x5_window( image, this_kp, padding = 0):\n",
    "    padded_img = np.pad(image, 0)\n",
    "    fd_window = np.zeros((5,5))\n",
    "    \n",
    "    (x,y) = this_kp.pt\n",
    "    #print(this_kp.pt)\n",
    "    #print(padded_img[int(x)][int(y)])\n",
    "    \n",
    "    # gather raw pixel data around kp coordinate\n",
    "    for j in range( padding + int(y) - 2, padding + int(y) + 3):\n",
    "        for i in range( padding + int(x) - 2, padding + int(x) + 3):\n",
    "            #print(i,j)\n",
    "            #print(padded_img[i][j])\n",
    "            fd_window[i%(padding + int(x) - 2)][j%(padding + int(y) - 2)] = padded_img[i][j]\n",
    "            \n",
    "    #print(fd_window)\n",
    "    return fd_window"
   ]
  },
  {
   "cell_type": "code",
   "execution_count": 72,
   "metadata": {},
   "outputs": [
    {
     "name": "stdout",
     "output_type": "stream",
     "text": [
      "<class 'numpy.ndarray'>\n",
      "(682, 1416)\n",
      "\n",
      "Threshold: 10\n",
      "nonmaxSuppression:False\n",
      "neighborhood: 2\n",
      "Total Keypoints 48\n"
     ]
    },
    {
     "data": {
      "image/png": "[encoded data removed]",
      "text/plain": [
       "<Figure size 720x720 with 1 Axes>"
      ]
     },
     "metadata": {
      "needs_background": "light"
     },
     "output_type": "display_data"
    },
    {
     "name": "stdout",
     "output_type": "stream",
     "text": [
      "(346.0, 131.0)\n"
     ]
    }
   ],
   "source": [
    "# image is a 2D numpy.ndarray\n",
    "img = cv.imread('Square.png', 0)\n",
    "\n",
    "kp = get_kp(img, 0)\n",
    "print(kp[0].pt)"
   ]
  },
  {
   "cell_type": "code",
   "execution_count": 74,
   "metadata": {},
   "outputs": [
    {
     "name": "stdout",
     "output_type": "stream",
     "text": [
      "[[255. 255. 255. 255. 255.]\n",
      " [255. 255. 255. 255. 255.]\n",
      " [255. 255. 255. 255. 255.]\n",
      " [255. 255. 255. 255. 255.]\n",
      " [255. 255. 255. 255. 255.]]\n"
     ]
    }
   ],
   "source": [
    "# Get Feature Descriptor 5 X 5\n",
    "# Test on translated image, use Paint to create a Box, then move the box to the right\n",
    "\n",
    "window = get_5x5_window( img, kp[0])\n",
    "print(window)"
   ]
  },
  {
   "cell_type": "code",
   "execution_count": null,
   "metadata": {},
   "outputs": [],
   "source": [
    "# Implement SIFT like feature descriptor\n",
    "# no orientation normalization if no rotation is involved"
   ]
  }
 ],
 "metadata": {
  "kernelspec": {
   "display_name": "Python 3",
   "language": "python",
   "name": "python3"
  },
  "language_info": {
   "codemirror_mode": {
    "name": "ipython",
    "version": 3
   },
   "file_extension": ".py",
   "mimetype": "text/x-python",
   "name": "python",
   "nbconvert_exporter": "python",
   "pygments_lexer": "ipython3",
   "version": "3.7.4"
  }
 },
 "nbformat": 4,
 "nbformat_minor": 2
}
