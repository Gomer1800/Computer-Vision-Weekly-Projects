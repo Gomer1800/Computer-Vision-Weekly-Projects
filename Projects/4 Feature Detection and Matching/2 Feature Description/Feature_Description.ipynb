{
 "cells": [
  {
   "cell_type": "code",
   "execution_count": 1,
   "metadata": {},
   "outputs": [],
   "source": [
    "# Set Up\n",
    "import numpy as np\n",
    "import cv2 as cv\n",
    "from matplotlib import pyplot as plt"
   ]
  },
  {
   "cell_type": "code",
   "execution_count": 2,
   "metadata": {},
   "outputs": [],
   "source": [
    "from PIL import Image\n",
    "# img = Image.open('../cars1.ppm')\n",
    "# img.show()\n",
    "\n",
    "# img = Image.open('../cars2.ppm')\n",
    "# img.show()"
   ]
  },
  {
   "cell_type": "code",
   "execution_count": 80,
   "metadata": {},
   "outputs": [],
   "source": [
    "def scale_img(img, scale_percent):\n",
    "    print(\"scale_img()\")\n",
    "    print(img.shape)\n",
    "    # Scale down image\n",
    "    width = int(img.shape[1] * scale_percent / 100)\n",
    "    height = int(img.shape[0] * scale_percent / 100)\n",
    "    dim = (width, height)\n",
    "    # resize image\n",
    "    img = cv.resize(img, dim, interpolation = cv.INTER_AREA)\n",
    "    print(img.shape)\n",
    "    return img"
   ]
  },
  {
   "cell_type": "code",
   "execution_count": 81,
   "metadata": {},
   "outputs": [],
   "source": [
    "# show grayscale image\n",
    "def show_grayscale( my_image ):\n",
    "    plt.figure(figsize = (10,10))\n",
    "    plt.imshow(my_image, cmap = plt.get_cmap(name = 'gray'))\n",
    "    plt.show()"
   ]
  },
  {
   "cell_type": "code",
   "execution_count": null,
   "metadata": {},
   "outputs": [],
   "source": [
    "# computer gradient using sobel\n",
    "def get_gradient(img):\n",
    "    print(\"get_gradient()\")\n",
    "    padding = 1\n",
    "    (y,x) = img.shape\n",
    "    Ix = np.zeros(img.shape)\n",
    "    Iy = np.zeros(img.shape)\n",
    "    \n",
    "    print(\"before padding: \",img.shape)\n",
    "    padded_img = np.pad(img, padding)\n",
    "    print(\"after padding: \",padded_img.shape)\n",
    "    \n",
    "    horiz = np.array([[-1, 0, 1]])\n",
    "    vert  = np.array([[-1], [0], [1]])\n",
    "\n",
    "    #print(padded_img[int(x)][int(y)])\n",
    "    \n",
    "    # Filter the image using sobel\n",
    "    # Iterate across rows, then columns, computing gradient, remember this image is padded!\n",
    "    for j in range( padding, padding + int(y)):\n",
    "        for i in range( padding, padding + int(x)):\n",
    "            #print(j, i)\n",
    "            Ix[j-padding, i-padding] = horiz[0,0]*padded_img[j,i-1] + horiz[0, 1]*padded_img[j, i] + horiz[0, 2]*padded_img[j, i+1]\n",
    "            Iy[j-padding, i-padding] = vert[0]*padded_img[j-1, i]  + vert[1]*padded_img[j, i]  + vert[2]*padded_img[j+1, i]\n",
    "    return (Ix, Iy)"
   ]
  },
  {
   "cell_type": "code",
   "execution_count": 190,
   "metadata": {},
   "outputs": [],
   "source": [
    "# detect key points using openCV FAST or SURF\n",
    "# Limit # of detected Kepoints <= 100\n",
    "def get_kp( img, Suppress = False):\n",
    "    print(\"get_kp()\")\n",
    "    print(type(img))\n",
    "    print(img.shape)\n",
    "\n",
    "    # Initiate FAST object with default values\n",
    "    fast = cv.FastFeatureDetector_create()\n",
    "    \n",
    "    # Disable nonmaxSuppression\n",
    "    if (Suppress == False):\n",
    "        fast.setNonmaxSuppression(0)\n",
    "    \n",
    "    # find and draw the keypoints\n",
    "    kp = fast.detect(img,None)\n",
    "    # KP structure documentation: https://docs.opencv.org/master/d2/d29/classcv_1_1KeyPoint.html\n",
    "    \n",
    "    kp_img = cv.drawKeypoints(img, kp, None, color=(255,0,0))\n",
    "    \n",
    "    # Print all default params\n",
    "    print( \"\\nThreshold: {}\".format(fast.getThreshold()) )\n",
    "    print( \"nonmaxSuppression:{}\".format(fast.getNonmaxSuppression()) )\n",
    "    print( \"neighborhood: {}\".format(fast.getType()) )\n",
    "    print( \"Total Keypoints {}\".format(len(kp)) )\n",
    "    \n",
    "    # print image\n",
    "    show_grayscale(kp_img)\n",
    "    \n",
    "    return kp"
   ]
  },
  {
   "cell_type": "code",
   "execution_count": 201,
   "metadata": {},
   "outputs": [],
   "source": [
    "# Gets 5x5 window extraction around a given keypoint data structure\n",
    "def get_5x5_window( image, this_kp, padding = 0):\n",
    "    #print(\"get_5x5_window()\")\n",
    "    padded_img = np.pad(image, padding)\n",
    "    fd_window = np.zeros((5,5))\n",
    "    \n",
    "    (x, y) = this_kp.pt\n",
    "    #print(this_kp.pt)\n",
    "    #print(padded_img[int(x)][int(y)])\n",
    "    \n",
    "    # gather raw pixel data around kp coordinate\n",
    "    for j in range( padding + int(y) - 2, padding + int(y) + 3):\n",
    "        for i in range( padding + int(x) - 2, padding + int(x) + 3):\n",
    "            #print(i,j)\n",
    "            #print(padded_img[i][j])\n",
    "            fd_window[j%(padding + int(y) - 2), i%(padding + int(x) - 2)] = padded_img[j, i]\n",
    "            \n",
    "    #print(fd_window)\n",
    "    return fd_window"
   ]
  },
  {
   "cell_type": "code",
   "execution_count": 202,
   "metadata": {},
   "outputs": [],
   "source": [
    "# returns vector of 5x5 windows for a given image\n",
    "def get_fdvector_5x5(img, kp_list):\n",
    "    fd_vector = []\n",
    "    for kp in kp_list:\n",
    "        fd_vector.append(get_5x5_window(img, kp))\n",
    "    return fd_vector"
   ]
  },
  {
   "cell_type": "code",
   "execution_count": 203,
   "metadata": {},
   "outputs": [
    {
     "name": "stdout",
     "output_type": "stream",
     "text": [
      "scale_img()\n",
      "(682, 1416)\n",
      "(341, 708)\n",
      "get_kp()\n",
      "<class 'numpy.ndarray'>\n",
      "(341, 708)\n",
      "\n",
      "Threshold: 10\n",
      "nonmaxSuppression:False\n",
      "neighborhood: 2\n",
      "Total Keypoints 70\n"
     ]
    },
    {
     "data": {
      "image/png": "[encoded data removed]",
      "text/plain": [
       "<Figure size 720x720 with 1 Axes>"
      ]
     },
     "metadata": {
      "needs_background": "light"
     },
     "output_type": "display_data"
    },
    {
     "name": "stdout",
     "output_type": "stream",
     "text": [
      "scale_img()\n",
      "(682, 1416)\n",
      "(341, 708)\n",
      "get_kp()\n",
      "<class 'numpy.ndarray'>\n",
      "(341, 708)\n",
      "\n",
      "Threshold: 10\n",
      "nonmaxSuppression:False\n",
      "neighborhood: 2\n",
      "Total Keypoints 70\n"
     ]
    },
    {
     "data": {
      "image/png": "[encoded data removed]",
      "text/plain": [
       "<Figure size 720x720 with 1 Axes>"
      ]
     },
     "metadata": {
      "needs_background": "light"
     },
     "output_type": "display_data"
    }
   ],
   "source": [
    "# image is a 2D numpy.ndarray\n",
    "#img = np.array(Image.open( 'House.png').convert('L'))\n",
    "img = np.array(Image.open( 'Square.png').convert('L'))\n",
    "\n",
    "img= scale_img(img, 50)\n",
    "kp = get_kp(img, Suppress=False)\n",
    "\n",
    "img_t = np.array(Image.open( 'House_translation.png').convert('L'))\n",
    "img_t = np.array(Image.open( 'Square_translation.png').convert('L'))\n",
    "\n",
    "img_t= scale_img(img_t, 50)\n",
    "kp_t = get_kp(img_t, Suppress=False)"
   ]
  },
  {
   "cell_type": "code",
   "execution_count": 204,
   "metadata": {},
   "outputs": [
    {
     "name": "stdout",
     "output_type": "stream",
     "text": [
      "length of fd vector: \t\t 70\n",
      "length of fd vector translated:  70\n"
     ]
    }
   ],
   "source": [
    "# Get Feature Descriptor 5 X 5\n",
    "# Test on translated image, use Paint to create a Box, then move the box to the right\n",
    "\n",
    "# build 5x5 window vector\n",
    "# List of windows\n",
    "fd_vector = get_fdvector_5x5(img, kp)\n",
    "print(\"length of fd vector: \\t\\t\",len(fd_vector))\n",
    "fd_vector_t = get_fdvector_5x5(img_t, kp)\n",
    "print(\"length of fd vector translated: \",len(fd_vector_t))"
   ]
  },
  {
   "cell_type": "code",
   "execution_count": null,
   "metadata": {},
   "outputs": [],
   "source": [
    "# compute matching\n",
    "\n",
    "#get gradient\n",
    "(Ix, Iy) = get_gradient(img)"
   ]
  },
  {
   "cell_type": "code",
   "execution_count": 93,
   "metadata": {},
   "outputs": [],
   "source": [
    "# Implement SIFT like feature descriptor\n",
    "# no orientation normalization if no rotation is involved"
   ]
  },
  {
   "cell_type": "code",
   "execution_count": null,
   "metadata": {},
   "outputs": [],
   "source": []
  }
 ],
 "metadata": {
  "kernelspec": {
   "display_name": "Python 3",
   "language": "python",
   "name": "python3"
  },
  "language_info": {
   "codemirror_mode": {
    "name": "ipython",
    "version": 3
   },
   "file_extension": ".py",
   "mimetype": "text/x-python",
   "name": "python",
   "nbconvert_exporter": "python",
   "pygments_lexer": "ipython3",
   "version": "3.7.4"
  }
 },
 "nbformat": 4,
 "nbformat_minor": 2
}
